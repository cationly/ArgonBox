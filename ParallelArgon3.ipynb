{
 "cells": [
  {
   "cell_type": "markdown",
   "metadata": {},
   "source": [
    "### The first cell in this file should always be executed, then one can choose a particular experiment to run.\n"
   ]
  },
  {
   "cell_type": "code",
   "execution_count": 1,
   "metadata": {
    "collapsed": false
   },
   "outputs": [],
   "source": [
    "#Tom Laeven (4247078) en Marnix Huibers (4144015)\n",
    "\n",
    "from numba import jit\n",
    "import numpy as np\n",
    "import matplotlib.pyplot as plt\n",
    "import functionsArgon3 as fA\n",
    "#%matplotlib inline"
   ]
  },
  {
   "cell_type": "markdown",
   "metadata": {},
   "source": [
    "### 1. Standard Simulation (energy checks)\n",
    "In this experiment the kinetic, potential and total energy are plotted."
   ]
  },
  {
   "cell_type": "code",
   "execution_count": null,
   "metadata": {
    "collapsed": false,
    "scrolled": true
   },
   "outputs": [],
   "source": [
    "settings = fA.md_settings(TSI=119.8,\n",
    "                          rho=np.sqrt(2),\n",
    "                          NumberOfBoxesPerDimension=2,\n",
    "                          NumberOfTimeSteps=2000,\n",
    "                          TruncR=3000,\n",
    "                          h=0.004)\n",
    "# Initialise the system\n",
    "r, v, Virial, U, Ekin, instance = fA.initialise(settings,seed=101)\n",
    "\n",
    "# The Simulation\n",
    "for q in range(0,settings.NumberOfTimeSteps):\n",
    "    instance = fA.velocity_verlet(instance, settings)\n",
    "    r[:,:,q+1] = instance.r\n",
    "    v[:,:,q+1] = instance.v\n",
    "    U[q+1] = instance.U\n",
    "    Ekin[q+1] = instance.Ekin\n",
    "\n",
    "# Plotting\n",
    "TimeAxis = np.arange(0,settings.NumberOfTimeSteps+1)\n",
    "Etot = Ekin + U\n",
    "plt.title(\"Energy plot\")\n",
    "plt.xlabel(\"Time Steps\")\n",
    "plt.ylabel(\"Energy\")\n",
    "plt.xlim([0, settings.NumberOfTimeSteps])\n",
    "plt.plot(TimeAxis, Ekin,label=\"Kinetic Energy\")\n",
    "plt.plot(TimeAxis, U,label=\"Potential Energy\")\n",
    "plt.plot(TimeAxis, Etot, label=\"Total Energy\")\n",
    "plt.legend(loc = 5,bbox_to_anchor=(1.51,0.8))\n",
    "plt.show()"
   ]
  },
  {
   "cell_type": "markdown",
   "metadata": {},
   "source": [
    "### 2. $C_v(\\rho,T)$\n",
    "In this experiment the heat capacity is calculated. It's important to first qualitatively determine when the system is in equilibrium using the plot of the kinetic energy. The number of time steps needed for equilibrium can be put in the variable Eq.  "
   ]
  },
  {
   "cell_type": "code",
   "execution_count": 2,
   "metadata": {
    "collapsed": false
   },
   "outputs": [],
   "source": [
    "settings_list = list()\n",
    "### Create list of parameters\n",
    "rho_list = np.array([0.01,0.3,0.8, 1.2])\n",
    "#rho_list = np.append(rho_list, (0.01, 0.02, 0.03,0.04,0.05,0.06,0.07,0.08,0.09))\n",
    "T_list = np.array([0.5,1,3])\n",
    "for T in T_list:\n",
    "    for rho in rho_list:\n",
    "        settings_list.append( fA.md_settings(TSI=T*119.8,\n",
    "                          rho=rho,\n",
    "                          NumberOfBoxesPerDimension=6,\n",
    "                          NumberOfTimeSteps=100000,\n",
    "                          TruncR=3,\n",
    "                          h=0.004))"
   ]
  },
  {
   "cell_type": "code",
   "execution_count": 3,
   "metadata": {
    "collapsed": false
   },
   "outputs": [],
   "source": [
    "def doCvExperiment(settings):\n",
    "    seed = 101\n",
    "\n",
    "    Eq = 10000 #Equilibrium time\n",
    "    Ti = 5000\n",
    "    NumTi = int(np.floor((settings.NumberOfTimeSteps -Eq)/Ti))\n",
    "\n",
    "    ####### INITIALISE\n",
    "    r, v, Virial, U, Ekin, instance = fA.initialise(settings,seed)\n",
    "    ### EQUILIBRATE TEMPERATURE\n",
    "    labda = np.sqrt( ((settings.N-1)*3*settings.T)/(2*Ekin[0]) )\n",
    "    v[:,:,0] *= labda\n",
    "    Ekin[0] *= labda*labda\n",
    "    instance.v = v[:,:,0]\n",
    "\n",
    "    # The Simulation\n",
    "    for q in range(0,settings.NumberOfTimeSteps):\n",
    "        instance = fA.velocity_verlet(instance, settings)\n",
    "        r[:,:,q+1] = instance.r\n",
    "        v[:,:,q+1] = instance.v\n",
    "        U[q+1] = instance.U\n",
    "        Ekin[q+1] = instance.Ekin\n",
    "        Virial[q+1] = instance.Virial\n",
    "        \n",
    "        ### EQUILIBRATE TEMPERATURE\n",
    "        if (q < Eq):\n",
    "            labda = np.sqrt( ((settings.N-1)*3*settings.T)/(Ekin[q+1]*2) )\n",
    "            v[:,:,q+1] *= labda\n",
    "            Ekin[q+1] *= labda*labda\n",
    "\n",
    "            instance.v = v[:,:,q+1]\n",
    "\n",
    "    # CALCULATE RELEVANT QUANTITIES + ERROR\n",
    "    Cv = np.zeros(NumTi)\n",
    "    T = np.zeros(NumTi)\n",
    "    for i in range(0,NumTi):\n",
    "        EkInt = Ekin[(Eq+Ti*i):(Eq+Ti*(i+1))]\n",
    "        Cv[i]=(3*settings.N*np.mean(EkInt)*np.mean(EkInt))/(2*np.mean(EkInt)*np.mean(EkInt)-\n",
    "                                                       3*settings.N*np.var(EkInt))\n",
    "        T[i] = 2/3 * np.mean(EkInt) / settings.N\n",
    "        \n",
    "    TMean = np.mean(T)\n",
    "    TError = np.std(T) / np.sqrt(NumTi)    \n",
    "    CvMean = np.mean(Cv)\n",
    "    CvStd = np.std(Cv)/ np.sqrt(NumTi)\n",
    "    \n",
    "    return (settings,TMean,TError,CvMean,CvStd)\n"
   ]
  },
  {
   "cell_type": "code",
   "execution_count": 4,
   "metadata": {
    "collapsed": false
   },
   "outputs": [],
   "source": [
    "import multiprocessing\n",
    "if __name__ == '__main__':\n",
    "    pool = multiprocessing.Pool(processes=1)\n",
    "    heatcapacity_data_list = np.asarray(pool.map(doCvExperiment, settings_list)) \n",
    "    pool.close()\n",
    "    pool.join()\n",
    "\n",
    "##### SAVE DATA #####\n",
    "filename = \"Cv(rho={0}:{1},T={2}:{3})\".format(rho_list[0], rho_list[-1] , T_list[0] , T_list[-1])\n",
    "np.save(filename, heatcapacity_data_list)"
   ]
  },
  {
   "cell_type": "code",
   "execution_count": 93,
   "metadata": {
    "collapsed": false
   },
   "outputs": [
    {
     "name": "stdout",
     "output_type": "stream",
     "text": [
      "temp 4.0 Cve 0.235100486305\n",
      "temp 1.5 Cve 0.43089445759\n"
     ]
    }
   ],
   "source": [
    "##### LOAD DATA #####\n",
    "cv_data_list = np.load(\"Cv(rho=0.1:0.09,T=0.7:4.0).npy\")\n",
    "##### MAKE ISOTHERMS #####\n",
    "isotherms = dict()\n",
    "for experiment in cv_data_list:\n",
    "    T = experiment[0].T\n",
    "    isotherms[T] = list() # might cause due to T-> TSI -> T\n",
    "for T_Te_Cv_Cve in cv_data_list:\n",
    "    settings = T_Te_Cv_Cve[0]\n",
    "    isotherms[settings.T].append([settings.rho, T_Te_Cv_Cve[1:]])\n",
    "\n",
    "##### PLOT ISOTHERMS #####\n",
    "TEMPS = sorted(isotherms.keys(),reverse = True)\n",
    "TEMPS=TEMPS[:2]\n",
    "for temp in TEMPS:\n",
    "    line = isotherms[temp]\n",
    "    Rho = list()\n",
    "    Cv = list()\n",
    "    CvE = list()\n",
    "    for point in line:\n",
    "        if point[1][3]<20000:\n",
    "            Rho.append(point[0])\n",
    "            Cv.append(point[1][2]/864)\n",
    "            CvE.append(point[1][3]/864)\n",
    "    Rho = np.array(Rho)\n",
    "    Cv = np.array(Cv)\n",
    "    sorted_indices = np.argsort(Rho)\n",
    "    Rho = Rho[sorted_indices]\n",
    "    Cv = Cv[sorted_indices]\n",
    "    print(\"temp\",temp,\"Cve\",np.max(CvE))\n",
    "    plt.plot(np.array(Rho), np.array(Cv), label = \"T={0}\".format(temp))\n",
    "\n",
    "### PLOT BEAUTIFICATION\n",
    "plt.xlabel(r\"$\\rho$\",fontsize=20)\n",
    "plt.ylabel(r\"$C_v/N$\",fontsize=20)\n",
    "plt.legend(loc = 2)\n",
    "#plt.savefig(\"figures/CvVSrho.pdf\".format(Rho[0], Rho[-1] , TEMPS[0] , TEMPS[-1]),bbox_inches = \"tight\")\n",
    "plt.show()"
   ]
  },
  {
   "cell_type": "markdown",
   "metadata": {
    "collapsed": false
   },
   "source": [
    "### 3. $P\\left(\\rho\\right)$, for different values of T"
   ]
  },
  {
   "cell_type": "code",
   "execution_count": 22,
   "metadata": {
    "collapsed": false
   },
   "outputs": [],
   "source": [
    "settings_list = list()\n",
    "### Create list of parameters\n",
    "rho_list = np.linspace(0.01, 1.2, 100)\n",
    "#rho_list = np.append(rho_list, (0.1,0.3,0.5))\n",
    "T_list = np.array([0.75, 0.99, 1.35,1.5, 2.74])\n",
    "for T in T_list:\n",
    "    for rho in rho_list:\n",
    "        settings_list.append( fA.md_settings(TSI=T*119.8,\n",
    "                          rho=rho,\n",
    "                          NumberOfBoxesPerDimension=6,\n",
    "                          NumberOfTimeSteps=4000,\n",
    "                          TruncR=3,\n",
    "                          h=0.004))"
   ]
  },
  {
   "cell_type": "code",
   "execution_count": 23,
   "metadata": {
    "collapsed": false
   },
   "outputs": [],
   "source": [
    "def doPressureExperiment(settings):\n",
    "    seed = 101\n",
    "\n",
    "    Eq = 2000 #Equilibrium time\n",
    "    Ti = 500\n",
    "    NumTi = int(np.floor((settings.NumberOfTimeSteps -Eq)/Ti))\n",
    "\n",
    "    ####### INITIALISE\n",
    "    r, v, Virial, U, Ekin, instance = fA.initialise(settings,seed)\n",
    "    ### EQUILIBRATE TEMPERATURE\n",
    "    labda = np.sqrt( ((settings.N-1)*3*settings.T)/(2*Ekin[0]) )\n",
    "    v[:,:,0] *= labda\n",
    "    Ekin[0] *= labda*labda\n",
    "    instance.v = v[:,:,0]\n",
    "\n",
    "    # The Simulation\n",
    "    for q in range(0,settings.NumberOfTimeSteps):\n",
    "        instance = fA.velocity_verlet(instance, settings)\n",
    "        r[:,:,q+1] = instance.r\n",
    "        v[:,:,q+1] = instance.v\n",
    "        U[q+1] = instance.U\n",
    "        Ekin[q+1] = instance.Ekin\n",
    "        Virial[q+1] = instance.Virial\n",
    "\n",
    "        ### EQUILIBRATE TEMPERATURE\n",
    "        if (q % 20)|(q < Eq):\n",
    "            labda = np.sqrt( ((settings.N-1)*3*settings.T)/(Ekin[q+1]*2) )\n",
    "            v[:,:,q+1] *= labda\n",
    "            Ekin[q+1] *= labda*labda\n",
    "\n",
    "            instance.v = v[:,:,q+1]\n",
    "\n",
    "    # CALCULATE RELEVANT QUANTITIES + ERROR\n",
    "    P = np.zeros(NumTi)\n",
    "    T = np.zeros(NumTi)\n",
    "    for i in range(0,NumTi):\n",
    "        VirialInt = Virial[(Eq+Ti*i):(Eq+Ti*(i+1))]\n",
    "        EkinInt = Ekin[(Eq+Ti*i):(Eq+Ti*(i+1))]\n",
    "\n",
    "        T[i] = 2/3 * np.mean(EkinInt) / settings.N\n",
    "        P[i] =  (settings.rho * T[i] - (settings.rho/(3*settings.N)) * np.mean(VirialInt) - \n",
    "                2*np.pi*settings.rho* settings.rho/3 *  8/(settings.TruncR**3) ) / (settings.rho* T[i])\n",
    "\n",
    "    TMean = np.mean(T)\n",
    "    TError = np.std(T) / np.sqrt(NumTi)\n",
    "    PMean = np.mean(P)\n",
    "    PError = np.std(P) / np.sqrt(NumTi)\n",
    "    return (settings,TMean,TError,PMean,PError)\n"
   ]
  },
  {
   "cell_type": "code",
   "execution_count": 24,
   "metadata": {
    "collapsed": false
   },
   "outputs": [],
   "source": [
    "import multiprocessing\n",
    "if __name__ == '__main__':\n",
    "    pool = multiprocessing.Pool(processes=2)\n",
    "    pressure_data_list = np.asarray(pool.map(doPressureExperiment, settings_list)) \n",
    "    pool.close()\n",
    "    pool.join()\n",
    "\n",
    "##### SAVE DATA #####\n",
    "filename = \"P(rho={0}:{1},T={2}:{3})\".format(rho_list[0], rho_list[-1] , T_list[0] , T_list[-1])\n",
    "np.save(filename, pressure_data_list)"
   ]
  },
  {
   "cell_type": "code",
   "execution_count": 5,
   "metadata": {
    "collapsed": false
   },
   "outputs": [],
   "source": [
    "##### LOAD DATA #####\n",
    "pressure_data_list = np.load(\"P(rho=0.01:1.2,T=0.75:2.74).npy\")\n",
    "##### MAKE ISOTHERMS #####\n",
    "isotherms = dict()\n",
    "for experiment in pressure_data_list:\n",
    "    T = experiment[0].T\n",
    "    isotherms[T] = list() # might cause due to T-> TSI -> T\n",
    "for T_Te_P_Pe in pressure_data_list:\n",
    "    settings = T_Te_P_Pe[0]\n",
    "    isotherms[settings.T].append([settings.rho, T_Te_P_Pe[1:]])\n",
    "\n",
    "##### PLOT ISOTHERMS #####\n",
    "TEMPS = sorted(isotherms.keys(),reverse = True)\n",
    "for temp in TEMPS:\n",
    "    line = isotherms[temp]\n",
    "    Rho = list()\n",
    "    P = list()\n",
    "    for point in line:\n",
    "        Rho.append(point[0])\n",
    "        P.append(point[1][2]*point[0]*temp)\n",
    "    Rho = np.array(Rho)\n",
    "    P = np.array(P)\n",
    "    sorted_indices = np.argsort(Rho)\n",
    "    Rho = Rho[sorted_indices]*(40*1.66e-27)/3.405e-10**3\n",
    "    P = P[sorted_indices]*119.8*1.38e-23/3.405e-10**3\n",
    "    plt.plot(np.array(Rho), np.array(P), label = \"T={0}\".format(temp))\n",
    "\n",
    "### PLOT BEAUTIFICATION\n",
    "plt.title(r\"Pressure vs. $\\rho$ & T \")\n",
    "plt.xlabel(r\"Density $\\rho$\")\n",
    "plt.ylabel(r\"Pressure\")\n",
    "plt.legend(loc = 5,bbox_to_anchor=(1.31,0.8))\n",
    "plt.savefig(\"figures/P(rho={0}:{1},T={2}:{3}).pdf\".format(Rho[0], Rho[-1] , TEMPS[0] , TEMPS[-1]),bbox_inches = \"tight\")\n",
    "plt.show()"
   ]
  }
 ],
 "metadata": {
  "kernelspec": {
   "display_name": "Python 3",
   "language": "python",
   "name": "python3"
  },
  "language_info": {
   "codemirror_mode": {
    "name": "ipython",
    "version": 3
   },
   "file_extension": ".py",
   "mimetype": "text/x-python",
   "name": "python",
   "nbconvert_exporter": "python",
   "pygments_lexer": "ipython3",
   "version": "3.5.1"
  }
 },
 "nbformat": 4,
 "nbformat_minor": 0
}
