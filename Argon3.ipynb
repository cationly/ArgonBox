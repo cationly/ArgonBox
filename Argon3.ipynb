{
 "cells": [
  {
   "cell_type": "markdown",
   "metadata": {},
   "source": [
    "### The first cell in this file should always be executed, then one can choose a particular experiment to run."
   ]
  },
  {
   "cell_type": "code",
   "execution_count": null,
   "metadata": {
    "collapsed": false
   },
   "outputs": [],
   "source": [
    "#Tom Laeven (4247078) en Marnix Huibers (4144015)\n",
    "\n",
    "from numba import jit\n",
    "import numpy as np\n",
    "import matplotlib.pyplot as plt\n",
    "import functionsArgon3 as fA"
   ]
  },
  {
   "cell_type": "markdown",
   "metadata": {},
   "source": [
    "### 1. Standard Simulation (energy checks)"
   ]
  },
  {
   "cell_type": "code",
   "execution_count": null,
   "metadata": {
    "collapsed": false,
    "scrolled": true
   },
   "outputs": [],
   "source": [
    "settings = fA.md_settings(TSI=119.8,\n",
    "                          rho=np.sqrt(2),\n",
    "                          NumberOfBoxesPerDimension=2,\n",
    "                          NumberOfTimeSteps=2000,\n",
    "                          TruncR=3000,\n",
    "                          h=0.004)\n",
    "# Initialise the system\n",
    "r, v, Virial, U, Ekin, instance = fA.initialise(settings,seed=101)\n",
    "\n",
    "# The Simulation\n",
    "for q in range(0,settings.NumberOfTimeSteps):\n",
    "    instance = fA.velocity_verlet(instance, settings)\n",
    "    r[:,:,q+1] = instance.r\n",
    "    v[:,:,q+1] = instance.v\n",
    "    U[q+1] = instance.U\n",
    "    Ekin[q+1] = instance.Ekin\n",
    "\n",
    "# Plotting\n",
    "TimeAxis = np.arange(0,settings.NumberOfTimeSteps+1)\n",
    "Etot = Ekin + U\n",
    "plt.title(\"Energy plot\")\n",
    "plt.xlabel(\"Time Steps\")\n",
    "plt.ylabel(\"Energy\")\n",
    "plt.xlim([0, settings.NumberOfTimeSteps])\n",
    "plt.plot(TimeAxis, Ekin,label=\"Kinetic Energy\")\n",
    "plt.plot(TimeAxis, U,label=\"Potential Energy\")\n",
    "plt.plot(TimeAxis, Etot, label=\"Total Energy\")\n",
    "plt.legend(loc = 5,bbox_to_anchor=(1.51,0.8))\n",
    "plt.show()"
   ]
  },
  {
   "cell_type": "markdown",
   "metadata": {},
   "source": [
    "### 2. Heat Capacity"
   ]
  },
  {
   "cell_type": "code",
   "execution_count": null,
   "metadata": {
    "collapsed": false
   },
   "outputs": [],
   "source": [
    "settings = fA.md_settings(TSI=3*119.8,\n",
    "                          rho=0.01,\n",
    "                          NumberOfBoxesPerDimension=6,\n",
    "                          NumberOfTimeSteps=100000,\n",
    "                          TruncR=3,\n",
    "                          h=0.004)\n",
    "seed = 101\n",
    "\n",
    "#Give the input parameters\n",
    "Eq = 6000 #Equilibrium time\n",
    "Ti = 2000\n",
    "NumTi = int(np.floor((settings.NumberOfTimeSteps -Eq)/Ti))\n",
    "#settings = fA.md_settings({\"TSI\":TSI, \"rho\":rho, \"NumberOfBoxesPerDimension\":NumberOfBoxesPerDimension,\n",
    "#                \"NumberOfTimeSteps\":NumberOfTimeSteps, \"TruncR\":TruncR, \"h\":h})\n",
    "# Initialise the system\n",
    "r, v, Virial, U, Ekin, instance = fA.initialise(settings,seed)\n",
    "## rescale\n",
    "labda = np.sqrt( ((settings.N-1)*3*settings.T)/(2*Ekin[0]) )\n",
    "v[:,:,0] *= labda\n",
    "Ekin[0] *= labda*labda\n",
    "instance.v = v[:,:,0]\n",
    "# The Simulation\n",
    "for q in range(0,settings.NumberOfTimeSteps):\n",
    "    instance = fA.velocity_verlet(instance, settings)\n",
    "    r[:,:,q+1] = instance.r\n",
    "    v[:,:,q+1] = instance.v\n",
    "    U[q+1] = instance.U\n",
    "    Ekin[q+1] = instance.Ekin\n",
    "    if q < Eq: ## rescale\n",
    "        labda = np.sqrt( ((settings.N-1)*3*settings.T)/(Ekin[q+1]*2) )\n",
    "        v[:,:,q+1] *= labda\n",
    "        Ekin[q+1] *= labda*labda\n",
    "        instance.v = v[:,:,q+1]\n",
    "# calculate Cv\n",
    "Cv = np.zeros(NumTi)\n",
    "for i in range(0,NumTi):\n",
    "    EkInt = Ekin[(Eq+Ti*i):(Eq+Ti*(i+1))]\n",
    "    Cv[i]=(3*settings.N*np.mean(EkInt)*np.mean(EkInt))/(2*np.mean(EkInt)*np.mean(EkInt)-\n",
    "                                                   3*settings.N*np.var(EkInt))\n",
    "CvMean = np.mean(Cv)\n",
    "CvStd = np.std(Cv)\n",
    "\n",
    "print(\"Calculated heat capacity:\", CvMean/settings.N, \"±\", CvStd/settings.N/np.sqrt(NumTi), \"         Dulong Petit:\", 3,\"          Ideal Gas:\", 1.5)\n",
    "\n",
    "#plotting Ekin\n",
    "TimeAxis = np.arange(0,settings.NumberOfTimeSteps+1)\n",
    "plt.title(\"Kinetic Energy plot\")\n",
    "plt.xlabel(\"Time Steps\")\n",
    "plt.ylabel(\"Kinetic Energy\")\n",
    "plt.xlim([0, settings.NumberOfTimeSteps])\n",
    "plt.plot(TimeAxis, Ekin)\n",
    "plt.show()"
   ]
  },
  {
   "cell_type": "markdown",
   "metadata": {
    "collapsed": false
   },
   "source": [
    "### 3. Pressure"
   ]
  },
  {
   "cell_type": "code",
   "execution_count": null,
   "metadata": {
    "collapsed": false
   },
   "outputs": [],
   "source": [
    "settings = fA.md_settings(TSI=0.99*119.8,\n",
    "                          rho=0.6,\n",
    "                          NumberOfBoxesPerDimension=6,\n",
    "                          NumberOfTimeSteps=30000,\n",
    "                          TruncR=3,\n",
    "                          h=0.001)\n",
    "seed = 101\n",
    "\n",
    "Eq = 20000 #Equilibrium time\n",
    "Ti = 500\n",
    "NumTi = int(np.floor((settings.NumberOfTimeSteps -Eq)/Ti))\n",
    "\n",
    "# Initialise the system\n",
    "r, v, Virial, U, Ekin, instance = fA.initialise(settings,seed)\n",
    "\n",
    "labda = np.sqrt( ((settings.N-1)*3*settings.T)/(2*Ekin[0]) )\n",
    "v[:,:,0] *= labda\n",
    "Ekin[0] *= labda*labda\n",
    "\n",
    "instance.v = v[:,:,0]\n",
    "\n",
    "# The Simulation\n",
    "for q in range(0,settings.NumberOfTimeSteps):\n",
    "    instance = fA.velocity_verlet(instance, settings)\n",
    "    r[:,:,q+1] = instance.r\n",
    "    v[:,:,q+1] = instance.v\n",
    "    U[q+1] = instance.U\n",
    "    Ekin[q+1] = instance.Ekin\n",
    "    Virial[q+1] = instance.Virial\n",
    "    \n",
    "    if q < Eq:\n",
    "        labda = np.sqrt( ((settings.N-1)*3*settings.T)/(Ekin[q+1]*2) )\n",
    "        v[:,:,q+1] *= labda\n",
    "        Ekin[q+1] *= labda*labda\n",
    "        \n",
    "        instance.v = v[:,:,q+1]\n",
    "\n",
    "P = np.zeros(NumTi)\n",
    "for i in range(0,NumTi):\n",
    "    VirialInt = Virial[(Eq+Ti*i):(Eq+Ti*(i+1))]\n",
    "    P[i] =  (settings.rho * settings.T - (settings.rho/(3*settings.N)) * np.mean(VirialInt) - \n",
    "            2*np.pi*settings.rho* settings.rho/3 *  8/(settings.TruncR**3) )\n",
    "\n",
    "PMean = np.mean(P)\n",
    "PStd = np.std(P)\n",
    "\n",
    "print(\"Calculated pressure per rho*T:\", PMean/(settings.rho*settings.T), \"±\", PStd/np.sqrt(NumTi),\n",
    "      \"         Ideal gas:\", 1)\n",
    "\n",
    "\n",
    "TimeAxis = np.arange(0,settings.NumberOfTimeSteps+1)\n",
    "Etot = Ekin + U\n",
    "plt.plot(P)\n",
    "plt.show()"
   ]
  },
  {
   "cell_type": "markdown",
   "metadata": {
    "collapsed": false
   },
   "source": [
    "### 5. Correlation function"
   ]
  },
  {
   "cell_type": "code",
   "execution_count": null,
   "metadata": {
    "collapsed": false
   },
   "outputs": [],
   "source": [
    "settings = fA.md_settings(TSI=1*119.8,\n",
    "                          rho=0.8,\n",
    "                          NumberOfBoxesPerDimension=6,\n",
    "                          NumberOfTimeSteps=4000,\n",
    "                          TruncR=10,\n",
    "                          h=0.001)\n",
    "seed = 101\n",
    "\n",
    "Eq = 2000 #Equilibrium time\n",
    "Ti = 1000\n",
    "NumTi = int(np.floor((settings.NumberOfTimeSteps -Eq)/Ti))\n",
    "\n",
    "# Initialise the system\n",
    "r, v, Virial, U, Ekin, instance = fA.initialise(settings,seed)\n",
    "\n",
    "labda = np.sqrt( ((settings.N-1)*3*settings.T)/(2*Ekin[0] ))\n",
    "v[:,:,0] *= labda\n",
    "Ekin[0] *= labda*labda\n",
    "CorrHist = np.zeros((200,(settings.NumberOfTimeSteps-Eq)))\n",
    "\n",
    "instance.v = v[:,:,0]\n",
    "\n",
    "# The Simulation\n",
    "for q in range(0,settings.NumberOfTimeSteps):\n",
    "    instance = fA.velocity_verlet(instance, settings)\n",
    "    r[:,:,q+1] = instance.r\n",
    "    v[:,:,q+1] = instance.v\n",
    "    U[q+1] = instance.U\n",
    "    Ekin[q+1] = instance.Ekin\n",
    "    Virial[q+1] = instance.Virial\n",
    "    \n",
    "    if q < Eq:\n",
    "        labda = np.sqrt( ((settings.N-1)*3*settings.T)/(Ekin[q+1]*2) )\n",
    "        v[:,:,q+1] *= labda\n",
    "        Ekin[q+1] *= labda*labda\n",
    "        \n",
    "        instance.v = v[:,:,q+1]\n",
    "    else:\n",
    "        CorrHist[:,q-Eq] = instance.hist[:200]\n",
    "\n",
    "HistAverage = np.mean(CorrHist,1)\n",
    "Dis = np.arange(0,settings.NumberOfTimeSteps+1)\n",
    "plt.title(\"Kinetic Energy plot\")\n",
    "plt.xlabel(\"Time Steps\")\n",
    "plt.ylabel(\"Kinetic Energy\")\n",
    "plt.xlim([0, settings.NumberOfTimeSteps])\n",
    "plt.plot(TimeAxis, Ekin)\n",
    "plt.show()\n"
   ]
  },
  {
   "cell_type": "markdown",
   "metadata": {
    "collapsed": false
   },
   "source": [
    "### Diffusion constant"
   ]
  },
  {
   "cell_type": "code",
   "execution_count": null,
   "metadata": {
    "collapsed": false
   },
   "outputs": [],
   "source": [
    "settings = fA.md_settings(TSI=1*119.8,\n",
    "                          rho=0.8,\n",
    "                          NumberOfBoxesPerDimension=6,\n",
    "                          NumberOfTimeSteps=10000,\n",
    "                          TruncR=10,\n",
    "                          h=0.004)\n",
    "seed = 104\n",
    "\n",
    "Eq = 2500 #Equilibrium time\n",
    "Ti = 1000\n",
    "NumTi = int(np.floor((settings.NumberOfTimeSteps -Eq)/Ti))\n",
    "\n",
    "# Initialise the system\n",
    "r, v, Virial, U, Ekin, instance = fA.initialise(settings,seed)\n",
    "\n",
    "routside = r\n",
    "\n",
    "labda = np.sqrt( ((settings.N-1)*3*settings.T)/(2*Ekin[0] ))\n",
    "v[:,:,0] *= labda\n",
    "Ekin[0] *= labda*labda\n",
    "CorrHist = np.zeros((200,(settings.NumberOfTimeSteps-Eq)))\n",
    "\n",
    "instance.v = v[:,:,0]\n",
    "\n",
    "for q in range(0,settings.NumberOfTimeSteps):\n",
    "    instance = fA.velocity_verlet(instance, settings)\n",
    "    routside[:,:,q+1] = routside[:,:,q] + instance.dr\n",
    "    \n",
    "    v[:,:,q+1] = instance.v\n",
    "    Ekin[q+1] = instance.Ekin\n",
    "   \n",
    "    if (q < Eq)|(q%20==0):\n",
    "        labda = np.sqrt( ((settings.N-1)*3*settings.T)/(Ekin[q+1]*2) )\n",
    "        v[:,:,q+1] *= labda\n",
    "        Ekin[q+1] *= labda*labda \n",
    "        instance.v = v[:,:,q+1]\n",
    "\n",
    "ABT = 1000\n",
    "        \n",
    "Diffdist = np.mean(np.sum((routside[:,:,Eq:] - routside[:,:,Eq,np.newaxis])**2,0),0)\n",
    "TimeAxis = settings.h*np.arange(ABT,settings.NumberOfTimeSteps+1-Eq)\n",
    "Coeff = np.polyfit(TimeAxis,Diffdist[ABT:],1)\n",
    "D = Coeff[0]/6\n",
    "\n",
    "plt.plot(settings.h*np.arange(0,settings.NumberOfTimeSteps+1-Eq),Diffdist)\n",
    "plt.plot(settings.h*np.arange(0,settings.NumberOfTimeSteps+1-Eq),settings.h*np.arange(0,settings.NumberOfTimeSteps+1-Eq)*6*D+Coeff[1])\n",
    "plt.show()"
   ]
  }
 ],
 "metadata": {
  "kernelspec": {
   "display_name": "Python 3",
   "language": "python",
   "name": "python3"
  },
  "language_info": {
   "codemirror_mode": {
    "name": "ipython",
    "version": 3
   },
   "file_extension": ".py",
   "mimetype": "text/x-python",
   "name": "python",
   "nbconvert_exporter": "python",
   "pygments_lexer": "ipython3",
   "version": "3.5.1"
  }
 },
 "nbformat": 4,
 "nbformat_minor": 0
}
